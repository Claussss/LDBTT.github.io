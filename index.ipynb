{
 "cells": [
  {
   "cell_type": "markdown",
   "metadata": {},
   "source": [
    "# Latent Diffusion Bridges for Unsupervised Timbre Transfer Demo\n",
    "This demo page is for the paper Latent Diffusion Bridges for Unsupervised Timbre Transfer\n",
    "\n",
    "\n",
    "Source code: link"
   ]
  },
  {
   "cell_type": "markdown",
   "metadata": {},
   "source": [
    "## Table of Contents\n",
    "\n",
    "1. [Timbre Transfer Results](#timbre-transfer-results)  \n",
    "   1.1. [Normal Instruments Created with Our Method](#normal-instruments-created-with-our-method)  \n",
    "   1.2. [Pitch-Shifted Flute](#pitch-shifted-flute)  \n",
    "   1.3. [Chunk-Based Minibatch](#chunk-based-minibatch)  \n",
    "\n",
    "2. [Impact of Different Sigma Max and Sigma N](#impact-of-different-sigma-max-and-sigma-n)  \n",
    "\n",
    "3. [Shared Space and Cycle Consistency](#shared-space-and-cycle-consistency)  \n",
    "   3.1. [Similar Melodies Examples](#similar-melodies-examples)  \n",
    "   3.2. [Cycle Consistency Graph](#cycle-consistency-graph)  \n",
    "\n"
   ]
  },
  {
   "cell_type": "markdown",
   "metadata": {},
   "source": [
    "<a id=\"timbre-transfer-results\"></a>\n",
    "\n",
    "## Timbre Transfer Results\n",
    "\n",
    "\n"
   ]
  },
  {
   "cell_type": "markdown",
   "metadata": {},
   "source": [
    "<a id=\"normal-instruments-created-with-our-method\"></a>\n",
    "\n",
    "### Normal Instruments Created with Our Method\n",
    "\n"
   ]
  },
  {
   "cell_type": "code",
   "execution_count": 2,
   "metadata": {},
   "outputs": [],
   "source": [
    "import sys\n",
    "sys.path.append('/mnt/beegfs/group/mt/yurii/tssb')\n",
    "from eval_scripts.config import (\n",
    "    real_data_base_path,\n",
    "    output_path\n",
    ")\n"
   ]
  },
  {
   "cell_type": "code",
   "execution_count": null,
   "metadata": {},
   "outputs": [],
   "source": [
    "pairs_to_show = [ \n",
    "    (flute, )"
   ]
  },
  {
   "cell_type": "markdown",
   "metadata": {},
   "source": [
    "<a id=\"pitch-shifted-flute\"></a>\n",
    "\n",
    "### Pitch-Shifted Flute\n",
    "\n"
   ]
  },
  {
   "cell_type": "code",
   "execution_count": null,
   "metadata": {},
   "outputs": [],
   "source": []
  },
  {
   "cell_type": "markdown",
   "metadata": {},
   "source": [
    "<a id=\"chunk-based-minibatch\"></a>\n",
    "\n",
    "### Chunk-Based Minibatch\n",
    "\n"
   ]
  },
  {
   "cell_type": "markdown",
   "metadata": {},
   "source": []
  },
  {
   "cell_type": "code",
   "execution_count": null,
   "metadata": {},
   "outputs": [],
   "source": []
  },
  {
   "cell_type": "markdown",
   "metadata": {},
   "source": [
    "<a id=\"impact-of-different-sigma-max-and-sigma-n\"></a>\n",
    "\n",
    "## Impact of Different Sigma Max and Sigma N\n",
    "\n"
   ]
  },
  {
   "cell_type": "code",
   "execution_count": null,
   "metadata": {},
   "outputs": [],
   "source": []
  },
  {
   "cell_type": "markdown",
   "metadata": {},
   "source": [
    "<a id=\"shared-space-and-cycle-consistency\"></a>\n",
    "\n",
    "## Shared Space and Cycle Consistency\n",
    "\n"
   ]
  },
  {
   "cell_type": "code",
   "execution_count": null,
   "metadata": {},
   "outputs": [],
   "source": []
  },
  {
   "cell_type": "markdown",
   "metadata": {},
   "source": [
    "<a id=\"similar-melodies-examples\"></a>\n",
    "\n",
    "### Similar Melodies Examples\n",
    "\n"
   ]
  },
  {
   "cell_type": "markdown",
   "metadata": {},
   "source": [
    "<a id=\"cycle-consistency-graph\"></a>\n",
    "\n",
    "### Cycle Consistency Graph"
   ]
  }
 ],
 "metadata": {
  "kernelspec": {
   "display_name": "diff_main",
   "language": "python",
   "name": "python3"
  },
  "language_info": {
   "codemirror_mode": {
    "name": "ipython",
    "version": 3
   },
   "file_extension": ".py",
   "mimetype": "text/x-python",
   "name": "python",
   "nbconvert_exporter": "python",
   "pygments_lexer": "ipython3",
   "version": "3.10.14"
  }
 },
 "nbformat": 4,
 "nbformat_minor": 2
}
